{
 "cells": [
  {
   "cell_type": "code",
   "execution_count": 6,
   "id": "82d48011-0b57-4f8e-b22e-d626cc030d9a",
   "metadata": {},
   "outputs": [
    {
     "name": "stdout",
     "output_type": "stream",
     "text": [
      "Classification Report:\n",
      "              precision    recall  f1-score   support\n",
      "\n",
      "           0       0.98      1.00      0.99       368\n",
      "           1       1.00      0.81      0.90        43\n",
      "\n",
      "    accuracy                           0.98       411\n",
      "   macro avg       0.99      0.91      0.94       411\n",
      "weighted avg       0.98      0.98      0.98       411\n",
      "\n",
      "\n",
      "Confusion Matrix:\n",
      "[[368   0]\n",
      " [  8  35]]\n",
      "\n",
      "Feature Coefficients:\n",
      "                                 Feature  Coefficient\n",
      "6  Have you ever had suicidal thoughts ?     2.241920\n",
      "2                          Work Pressure     1.834847\n",
      "8                       Financial Stress     1.235528\n",
      "7                             Work Hours     0.971657\n",
      "9       Family History of Mental Illness     0.690509\n",
      "5                         Dietary Habits     0.634382\n",
      "0                                 Gender     0.064381\n",
      "4                         Sleep Duration    -0.179790\n",
      "3                       Job Satisfaction    -1.728275\n",
      "1                                    Age    -3.461459\n"
     ]
    }
   ],
   "source": [
    "import pandas as pd\n",
    "import numpy as np\n",
    "from sklearn.model_selection import train_test_split\n",
    "from sklearn.preprocessing import LabelEncoder, StandardScaler\n",
    "from sklearn.svm import SVC\n",
    "from sklearn.metrics import classification_report, confusion_matrix\n",
    "import warnings\n",
    "warnings.filterwarnings('ignore')\n",
    "\n",
    "# Load dataset\n",
    "data = pd.read_excel(r\"C:\\Users\\mompa\\Documents\\Cleaned Depression Professional Dataset.xlsx\")\n",
    "\n",
    "# Preprocess: Encode categorical variables\n",
    "le = LabelEncoder()\n",
    "categorical_cols = ['Gender', 'Sleep Duration', 'Dietary Habits', \n",
    "                   'Have you ever had suicidal thoughts ?', 'Family History of Mental Illness', 'Depression']\n",
    "for col in categorical_cols:\n",
    "    data[col] = le.fit_transform(data[col].astype(str))\n",
    "\n",
    "# Define features (X) and target (y)\n",
    "X = data.drop('Depression', axis=1)\n",
    "y = data['Depression']\n",
    "\n",
    "# Scale features\n",
    "scaler = StandardScaler()\n",
    "X = scaler.fit_transform(X)\n",
    "\n",
    "# Split data\n",
    "X_train, X_test, y_train, y_test = train_test_split(X, y, test_size=0.2, random_state=42)\n",
    "\n",
    "# Train SVM model\n",
    "model = SVC(kernel='linear', random_state=42)\n",
    "model.fit(X_train, y_train)\n",
    "\n",
    "# Predict\n",
    "y_pred = model.predict(X_test)\n",
    "\n",
    "# Evaluate\n",
    "print(\"Classification Report:\")\n",
    "print(classification_report(y_test, y_pred))\n",
    "print(\"\\nConfusion Matrix:\")\n",
    "print(confusion_matrix(y_test, y_pred))\n",
    "\n",
    "# Feature importance\n",
    "feature_importance = pd.DataFrame({\n",
    "    'Feature': data.drop('Depression', axis=1).columns,\n",
    "    'Coefficient': model.coef_[0]\n",
    "})\n",
    "print(\"\\nFeature Coefficients:\")\n",
    "print(feature_importance.sort_values(by='Coefficient', ascending=False))"
   ]
  },
  {
   "cell_type": "code",
   "execution_count": null,
   "id": "d1624b5e-bea4-446f-a0da-1a758afa3727",
   "metadata": {},
   "outputs": [],
   "source": []
  }
 ],
 "metadata": {
  "kernelspec": {
   "display_name": "Python [conda env:base] *",
   "language": "python",
   "name": "conda-base-py"
  },
  "language_info": {
   "codemirror_mode": {
    "name": "ipython",
    "version": 3
   },
   "file_extension": ".py",
   "mimetype": "text/x-python",
   "name": "python",
   "nbconvert_exporter": "python",
   "pygments_lexer": "ipython3",
   "version": "3.12.7"
  }
 },
 "nbformat": 4,
 "nbformat_minor": 5
}
